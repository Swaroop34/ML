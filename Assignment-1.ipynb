{
 "cells": [
  {
   "cell_type": "code",
   "execution_count": 1,
   "metadata": {},
   "outputs": [
    {
     "name": "stdout",
     "output_type": "stream",
     "text": [
      "2002,2009,2016,2023,2037,2044,2051,2058,2072,2079,2086,2093,2107,2114,2121,2128,2142,2149,2156,2163,2177,2184,2191,2198,2212,2219,2226,2233,2247,2254,2261,2268,2282,2289,2296,2303,2317,2324,2331,2338,2352,2359,2366,2373,2387,2394,2401,2408,2422,2429,2436,2443,2457,2464,2471,2478,2492,2499,2506,2513,2527,2534,2541,2548,2562,2569,2576,2583,2597,2604,2611,2618,2632,2639,2646,2653,2667,2674,2681,2688,2702,2709,2716,2723,2737,2744,2751,2758,2772,2779,2786,2793,2807,2814,2821,2828,2842,2849,2856,2863,2877,2884,2891,2898,2912,2919,2926,2933,2947,2954,2961,2968,2982,2989,2996,3003,3017,3024,3031,3038,3052,3059,3066,3073,3087,3094,3101,3108,3122,3129,3136,3143,3157,3164,3171,3178,3192,3199,"
     ]
    }
   ],
   "source": [
    "#program to print numbers from 2000 to 3200 which are divisible by 7 \n",
    "#but not a multiple of 5 in a sequence seperated by comma.\n",
    "#result = []\n",
    "for i in range(2000,3201):\n",
    "    if (i%7 == 0) and (i%5 != 0):\n",
    "            #result.append(i)\n",
    "            print(i,end = ',')\n",
    "        \n",
    "#print(result)"
   ]
  },
  {
   "cell_type": "code",
   "execution_count": 2,
   "metadata": {},
   "outputs": [
    {
     "name": "stdout",
     "output_type": "stream",
     "text": [
      "Enter first name: Veda\n",
      "Enter last name: Vyas\n",
      "adeV  sayV\n"
     ]
    }
   ],
   "source": [
    "#accept user's first and last name and print in reverse order with a space \n",
    "#between first and last name\n",
    "first_name = input(\"Enter first name: \")\n",
    "last_name = input(\"Enter last name: \")\n",
    "print(first_name[::-1],'',last_name[::-1])"
   ]
  },
  {
   "cell_type": "code",
   "execution_count": 3,
   "metadata": {},
   "outputs": [
    {
     "name": "stdout",
     "output_type": "stream",
     "text": [
      "volume of the spear is:  904.7520 cubic centimeters\n"
     ]
    }
   ],
   "source": [
    "#volume of a sphere with diameter 12cm.\n",
    "diameter = 12\n",
    "pi = 3.1415\n",
    "volume = (4/3)*pi*((diameter/2)**3)\n",
    "print('volume of the spear is: ','%.4f'%volume,'cubic centimeters')"
   ]
  },
  {
   "cell_type": "code",
   "execution_count": 4,
   "metadata": {
    "scrolled": true
   },
   "outputs": [
    {
     "name": "stdout",
     "output_type": "stream",
     "text": [
      "1,2,3,4,5\n",
      "['1,2,3,4,5']\n"
     ]
    }
   ],
   "source": [
    "#Program that accepts comma-seperated numbers from console and generate a list\n",
    "user_input = []\n",
    "num = input()\n",
    "user_input.append(num)\n",
    "print(user_input)"
   ]
  },
  {
   "cell_type": "code",
   "execution_count": 5,
   "metadata": {},
   "outputs": [
    {
     "name": "stdout",
     "output_type": "stream",
     "text": [
      "* \n",
      "* * \n",
      "* * * \n",
      "* * * * \n",
      "* * * * * \n",
      "* * * * * \n",
      "* * * * \n",
      "* * * \n",
      "* * \n",
      "* \n"
     ]
    }
   ],
   "source": [
    "#Program to generate a pattern using nested for loop\n",
    "for i in range(0,5):\n",
    "    for j in range(0,5):\n",
    "        if(j<=i):\n",
    "            print('*','',end='')\n",
    "        #elif(i<=j):\n",
    "            #print('*','',end='')\n",
    "            #pass\n",
    "    print('') \n",
    "for i in range(0,5):\n",
    "    for j in range(0,5):\n",
    "        if(i<=j):\n",
    "            print('*','',end='')\n",
    "    print('') "
   ]
  },
  {
   "cell_type": "code",
   "execution_count": 6,
   "metadata": {},
   "outputs": [
    {
     "name": "stdout",
     "output_type": "stream",
     "text": [
      "Enter a Word:Ineuron\n",
      "noruenI\n"
     ]
    }
   ],
   "source": [
    "#Program to reverse a word after accepting input from the user\n",
    "user_get = input(\"Enter a Word:\")\n",
    "print(user_get[::-1])"
   ]
  },
  {
   "cell_type": "code",
   "execution_count": 7,
   "metadata": {},
   "outputs": [
    {
     "name": "stdout",
     "output_type": "stream",
     "text": [
      "We, THE PEOPLE OF INDIA\n",
      " \thaving solemnly resolved to constitute India into a SOVEREIGN,!\n",
      " \t\tSOCIALIST,SECULAR,DEMOCRATC REPUBLIC\n",
      " \t\t and to secure to all its citizens\n"
     ]
    }
   ],
   "source": [
    "#Program to print the given string in the format specified\n",
    "print('{}\\n'.format('We, THE PEOPLE OF INDIA'),'\\thaving solemnly resolved to constitute India into a {},!\\n'.format('SOVEREIGN'),'\\t\\t{}\\n'.format('SOCIALIST,SECULAR,DEMOCRATC REPUBLIC'),'\\t\\t and to secure to all its citizens')"
   ]
  },
  {
   "cell_type": "code",
   "execution_count": null,
   "metadata": {},
   "outputs": [],
   "source": []
  }
 ],
 "metadata": {
  "kernelspec": {
   "display_name": "Python 3",
   "language": "python",
   "name": "python3"
  },
  "language_info": {
   "codemirror_mode": {
    "name": "ipython",
    "version": 3
   },
   "file_extension": ".py",
   "mimetype": "text/x-python",
   "name": "python",
   "nbconvert_exporter": "python",
   "pygments_lexer": "ipython3",
   "version": "3.7.6"
  }
 },
 "nbformat": 4,
 "nbformat_minor": 4
}
