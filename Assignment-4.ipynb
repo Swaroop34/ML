{
 "cells": [
  {
   "cell_type": "markdown",
   "metadata": {},
   "source": [
    "1.1 Write a Python Program(with class concepts) to find the area of the triangle using the below\n",
    "formula.\n",
    "area = (s*(s-a)*(s-b)*(s-c)) ** 0.5\n",
    "Function to take the length of the sides of triangle from user should be defined in the parent\n",
    "class and function to calculate the area should be defined in subclass.\n"
   ]
  },
  {
   "cell_type": "code",
   "execution_count": 2,
   "metadata": {},
   "outputs": [
    {
     "name": "stdout",
     "output_type": "stream",
     "text": [
      "Enter the three sides of a triangle\n",
      "Enter length of side-A of triangle: 25\n",
      "Enter length of side-B of triangle: 16\n",
      "Enter length of side-C of triangle: 10\n",
      "The perimeter of the triangle is:  25.5\n",
      "The area of the triangle is : 43.33\n"
     ]
    }
   ],
   "source": [
    "# Defining parent class named Triangle \n",
    "class Triangle:\n",
    "    def __init__(self):\n",
    "        self.a = float(input(\"Enter length of side-A of triangle: \"))\n",
    "        self.b = float(input(\"Enter length of side-B of triangle: \"))\n",
    "        self.c = float(input(\"Enter length of side-C of triangle: \"))\n",
    "    \n",
    "     \n",
    "#Defining child class named Area        \n",
    "class Area(Triangle):\n",
    "    def __init__(self):\n",
    "        print(\"Enter the three sides of a triangle\")\n",
    "        super().__init__() #calling parent class __init__ method\n",
    "        s = (self.a + self.b + self.c)/2\n",
    "        print(\"The perimeter of the triangle is: \",s)\n",
    "        #print(self.a)\n",
    "        area = (s*(s - self.a)*(s - self.b)*(s - self.c))**0.5\n",
    "        if (area == 0):\n",
    "            print(\"The area of the traingle is 'zero' because, length of one of its sides equals to its perimeter \")\n",
    "        else:\n",
    "            #print(area)\n",
    "            print(\"The area of the triangle is : {0:.2f}\".format(area))\n",
    "    \n",
    "    \n",
    "    \n",
    "    \n",
    " \n",
    "        \n",
    "t = Area() # t is object of child class named Area      \n",
    "        \n",
    "       \n",
    "   \n",
    "        "
   ]
  },
  {
   "cell_type": "markdown",
   "metadata": {},
   "source": [
    "1.2 Write a function filter_long_words() that takes a list of words and an integer n and returns\n",
    "the list of words that are longer than n.\n",
    "\n"
   ]
  },
  {
   "cell_type": "code",
   "execution_count": 3,
   "metadata": {},
   "outputs": [
    {
     "name": "stdout",
     "output_type": "stream",
     "text": [
      "Enter list of words: \n",
      "Apple, Orange, Tomato, Potato, Carrot\n",
      "Enter an integer n: \n",
      "5\n",
      "The list of words longer than n are: \n",
      " [' Orange', ' Tomato', ' Potato', ' Carrot']\n"
     ]
    }
   ],
   "source": [
    "#defining function\n",
    "def filter_long_words():\n",
    "    print(\"Enter list of words: \")\n",
    "    user_input = input().split(\",\")\n",
    "    print(\"Enter an integer n: \")\n",
    "    n = int(input())\n",
    "    #print(n)\n",
    "    result = []\n",
    "    #print(user_input[0][0])\n",
    "    #print(len(user_input[0]))\n",
    "    for i in user_input:\n",
    "        if len(i) > n:\n",
    "            result.append(i)\n",
    "            \n",
    "        \n",
    "    return print(\"The list of words longer than n are: \\n\",result)\n",
    "    \n",
    "    \n",
    "    \n",
    "#calling function    \n",
    "filter_long_words()        "
   ]
  },
  {
   "cell_type": "markdown",
   "metadata": {},
   "source": [
    "2.1 Write a Python program using function concept that maps list of words into a list of integers\n",
    "representing the lengths of the corresponding words.\n",
    "Hint: If a list [ ab,cde,erty] is passed on to the python function output should come as [2,3,4]\n",
    "Here 2,3 and 4 are the lengths of the words in the list.\n",
    "\n"
   ]
  },
  {
   "cell_type": "code",
   "execution_count": 4,
   "metadata": {},
   "outputs": [
    {
     "name": "stdout",
     "output_type": "stream",
     "text": [
      "Enter list of words: abc, defg, hijklm, Orange, Pineapple\n"
     ]
    },
    {
     "data": {
      "text/plain": [
       "[3, 4, 6, 6, 9]"
      ]
     },
     "execution_count": 4,
     "metadata": {},
     "output_type": "execute_result"
    }
   ],
   "source": [
    "# getting list of words as input from user\n",
    "words = input(\"Enter list of words: \").split(\",\")\n",
    "#print(words)\n",
    "\n",
    "# Defining function\n",
    "def words_to_integers(words):\n",
    "    l = len(words)-words.count(' ') \n",
    "    return l\n",
    "    \n",
    "# mapping function and list of words\n",
    "list(map(words_to_integers,words))     "
   ]
  },
  {
   "cell_type": "markdown",
   "metadata": {},
   "source": [
    " 2.2 Write a Python function which takes a character (i.e. a string of length 1) and returns True if\n",
    "it is a vowel, False otherwise.\n"
   ]
  },
  {
   "cell_type": "code",
   "execution_count": 6,
   "metadata": {},
   "outputs": [],
   "source": [
    "# defining function\n",
    "def is_vowel(character):\n",
    "    vowels = ['a','e','i','o','u']\n",
    "    for i in vowels:\n",
    "        if i == character:\n",
    "            return True\n",
    "        else:\n",
    "            return False\n",
    "        \n"
   ]
  },
  {
   "cell_type": "code",
   "execution_count": 7,
   "metadata": {},
   "outputs": [
    {
     "data": {
      "text/plain": [
       "True"
      ]
     },
     "execution_count": 7,
     "metadata": {},
     "output_type": "execute_result"
    }
   ],
   "source": [
    "# calling function\n",
    "is_vowel('a')"
   ]
  },
  {
   "cell_type": "code",
   "execution_count": 8,
   "metadata": {},
   "outputs": [
    {
     "data": {
      "text/plain": [
       "False"
      ]
     },
     "execution_count": 8,
     "metadata": {},
     "output_type": "execute_result"
    }
   ],
   "source": [
    "# calling function\n",
    "is_vowel('k')"
   ]
  },
  {
   "cell_type": "code",
   "execution_count": null,
   "metadata": {},
   "outputs": [],
   "source": []
  }
 ],
 "metadata": {
  "kernelspec": {
   "display_name": "Python 3",
   "language": "python",
   "name": "python3"
  },
  "language_info": {
   "codemirror_mode": {
    "name": "ipython",
    "version": 3
   },
   "file_extension": ".py",
   "mimetype": "text/x-python",
   "name": "python",
   "nbconvert_exporter": "python",
   "pygments_lexer": "ipython3",
   "version": "3.7.6"
  }
 },
 "nbformat": 4,
 "nbformat_minor": 4
}
