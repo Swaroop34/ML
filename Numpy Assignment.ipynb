{
 "cells": [
  {
   "cell_type": "markdown",
   "metadata": {},
   "source": [
    "# Problem Statement 1"
   ]
  },
  {
   "cell_type": "markdown",
   "metadata": {},
   "source": [
    "Problem Statement 1:Write a function so that the columns of the output matrix are powers of the inputvector. The order of the powers is determined by the increasing boolean argument. Specifically, when increasing is False, the i-th output column is the input vector raised element-wise to the power of N -i -1. HINT:  Such  a  matrix  with  a  geometric  progression  in  each  row  is  named  for  Alexandre-Theophile Vandermonde."
   ]
  },
  {
   "cell_type": "code",
   "execution_count": 120,
   "metadata": {},
   "outputs": [],
   "source": [
    "def vandermore(x,increasing=False):\n",
    "    import numpy as np\n",
    "    d = len(x)\n",
    "    N = int(input('Enter the power value: '))\n",
    "    result = np.zeros((d,d))\n",
    "    if increasing == False:\n",
    "        for i in range(d):\n",
    "            for j in range(d):\n",
    "                result[[i],[j]] = x[i]**(N-j-1)\n",
    "        return result\n",
    "    elif increasing == True:\n",
    "        for i in range(d):\n",
    "            for j in range(d):\n",
    "                result[[i],[j]] = x[i]**(j)\n",
    "        return result   "
   ]
  },
  {
   "cell_type": "code",
   "execution_count": 121,
   "metadata": {},
   "outputs": [],
   "source": [
    "l = [1,2,3,4]"
   ]
  },
  {
   "cell_type": "code",
   "execution_count": 122,
   "metadata": {},
   "outputs": [
    {
     "name": "stdout",
     "output_type": "stream",
     "text": [
      "Enter the power value: 4\n"
     ]
    },
    {
     "data": {
      "text/plain": [
       "array([[ 1.,  1.,  1.,  1.],\n",
       "       [ 1.,  2.,  4.,  8.],\n",
       "       [ 1.,  3.,  9., 27.],\n",
       "       [ 1.,  4., 16., 64.]])"
      ]
     },
     "execution_count": 122,
     "metadata": {},
     "output_type": "execute_result"
    }
   ],
   "source": [
    "vandermore(l,True)"
   ]
  },
  {
   "cell_type": "code",
   "execution_count": 123,
   "metadata": {},
   "outputs": [
    {
     "name": "stdout",
     "output_type": "stream",
     "text": [
      "Enter the power value: 4\n"
     ]
    },
    {
     "data": {
      "text/plain": [
       "array([[ 1.,  1.,  1.,  1.],\n",
       "       [ 8.,  4.,  2.,  1.],\n",
       "       [27.,  9.,  3.,  1.],\n",
       "       [64., 16.,  4.,  1.]])"
      ]
     },
     "execution_count": 123,
     "metadata": {},
     "output_type": "execute_result"
    }
   ],
   "source": [
    "vandermore(l,False)"
   ]
  },
  {
   "cell_type": "code",
   "execution_count": 124,
   "metadata": {},
   "outputs": [
    {
     "name": "stdout",
     "output_type": "stream",
     "text": [
      "Enter the power value: 4\n"
     ]
    },
    {
     "data": {
      "text/plain": [
       "array([[ 1.,  1.,  1.,  1.],\n",
       "       [ 8.,  4.,  2.,  1.],\n",
       "       [27.,  9.,  3.,  1.],\n",
       "       [64., 16.,  4.,  1.]])"
      ]
     },
     "execution_count": 124,
     "metadata": {},
     "output_type": "execute_result"
    }
   ],
   "source": [
    "vandermore(l)"
   ]
  },
  {
   "cell_type": "markdown",
   "metadata": {},
   "source": [
    "# Problem Statement 2"
   ]
  },
  {
   "cell_type": "markdown",
   "metadata": {},
   "source": [
    "Given a sequence of n values x1, x2, ..., xn and a window size k>0,the k-th moving average of the given sequence is defined as follows:\\\n",
    "The moving average sequence has n-k+1 elements as shown below.\\\n",
    "The moving averages with k=4 of a ten-value sequence (n=10) is shown below\\\n",
    "i     1  2  3  4  5  6  7  8  9 10\\\n",
    "======= == == == == == == == == ==\\\n",
    "Input 10 20 30 40 50 60 70 80 90 100 \\\n",
    "y1 25 = (10+20+30+40)/4\\\n",
    "y2 35 = (20+30+40+50)/4\\\n",
    "y3 45 = (30+40+50+60)/4\\\n",
    "y4 55 = (40+50+60+70)/4\\\n",
    "y5 65 = (50+60+70+80)/4\\\n",
    "y6 75 = (60+70+80+90)/4\\\n",
    "y7 85 = (70+80+90+100)/4\\\n",
    "Thus, the moving average sequence has n-k+1=10-4+1=7 values.\n",
    "\n",
    "Question:\\\n",
    "Write a function to find moving average in an array over a window:Test it over [3, 5, 7, 2, 8, 10, 11, 65, 72, 81, 99, 100, 150] and window of 3.\n"
   ]
  },
  {
   "cell_type": "code",
   "execution_count": 161,
   "metadata": {},
   "outputs": [],
   "source": [
    "def moving_average(l,k):\n",
    "    # k is moving average window\n",
    "    # l is sequence of n values\n",
    "    import numpy as np\n",
    "    d = np.array(l)\n",
    "    n = len(l)\n",
    "    result = np.zeros(n-k+1)\n",
    "    for i in range(n-k+1):\n",
    "        window = d[0+i:k+i]\n",
    "        result[i] = window.mean()\n",
    "    return result\n",
    "        \n",
    "        "
   ]
  },
  {
   "cell_type": "code",
   "execution_count": 162,
   "metadata": {},
   "outputs": [],
   "source": [
    "h = [3,5,7,2,8,10,11,65,72,81,99,100,150]"
   ]
  },
  {
   "cell_type": "code",
   "execution_count": 163,
   "metadata": {},
   "outputs": [
    {
     "data": {
      "text/plain": [
       "array([  5.        ,   4.66666667,   5.66666667,   6.66666667,\n",
       "         9.66666667,  28.66666667,  49.33333333,  72.66666667,\n",
       "        84.        ,  93.33333333, 116.33333333])"
      ]
     },
     "execution_count": 163,
     "metadata": {},
     "output_type": "execute_result"
    }
   ],
   "source": [
    "moving_average(h,3)\n"
   ]
  },
  {
   "cell_type": "code",
   "execution_count": null,
   "metadata": {},
   "outputs": [],
   "source": []
  },
  {
   "cell_type": "code",
   "execution_count": null,
   "metadata": {},
   "outputs": [],
   "source": []
  },
  {
   "cell_type": "code",
   "execution_count": null,
   "metadata": {},
   "outputs": [],
   "source": []
  },
  {
   "cell_type": "code",
   "execution_count": null,
   "metadata": {},
   "outputs": [],
   "source": []
  },
  {
   "cell_type": "code",
   "execution_count": null,
   "metadata": {},
   "outputs": [],
   "source": []
  }
 ],
 "metadata": {
  "kernelspec": {
   "display_name": "Python 3",
   "language": "python",
   "name": "python3"
  },
  "language_info": {
   "codemirror_mode": {
    "name": "ipython",
    "version": 3
   },
   "file_extension": ".py",
   "mimetype": "text/x-python",
   "name": "python",
   "nbconvert_exporter": "python",
   "pygments_lexer": "ipython3",
   "version": "3.8.5"
  }
 },
 "nbformat": 4,
 "nbformat_minor": 4
}
