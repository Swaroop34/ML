{
 "cells": [
  {
   "cell_type": "markdown",
   "metadata": {},
   "source": [
    "# 1.1 Program to implement your own reduce() function which works exactly like python's built-in function reduce()."
   ]
  },
  {
   "cell_type": "code",
   "execution_count": 4,
   "metadata": {},
   "outputs": [],
   "source": [
    "# Defining function name 'add' to add a+b \n",
    "def add(a,b):\n",
    "    return a+b\n",
    "\n",
    "\n",
    "#list of numbers\n",
    "lst = [1,2,3,4,5]\n",
    "\n",
    "\n"
   ]
  },
  {
   "cell_type": "code",
   "execution_count": 6,
   "metadata": {},
   "outputs": [],
   "source": [
    "# Defining my_reduce() function which works exactly like python's reduce() function\n",
    "\n",
    "def my_reduce(funct,seq):\n",
    "    temp = 0\n",
    "    for i in range(len(seq)):\n",
    "        #print(i)\n",
    "        if i == 1:\n",
    "            temp = funct(i,i+1)\n",
    "        else:\n",
    "            temp = funct(temp,i+1)\n",
    "           \n",
    "    return temp\n",
    "    "
   ]
  },
  {
   "cell_type": "code",
   "execution_count": 7,
   "metadata": {},
   "outputs": [
    {
     "data": {
      "text/plain": [
       "15"
      ]
     },
     "execution_count": 7,
     "metadata": {},
     "output_type": "execute_result"
    }
   ],
   "source": [
    "# Implementing my_reduce function\n",
    "\n",
    "my_reduce(add,lst)"
   ]
  },
  {
   "cell_type": "code",
   "execution_count": 8,
   "metadata": {},
   "outputs": [
    {
     "data": {
      "text/plain": [
       "15"
      ]
     },
     "execution_count": 8,
     "metadata": {},
     "output_type": "execute_result"
    }
   ],
   "source": [
    "# checking with reduce() function\n",
    "from functools import reduce\n",
    "reduce(add,lst)\n"
   ]
  },
  {
   "cell_type": "markdown",
   "metadata": {},
   "source": [
    "# 1.2 program to implement your own myfilter() function which works exactly like python's built-in function filter()"
   ]
  },
  {
   "cell_type": "code",
   "execution_count": 13,
   "metadata": {},
   "outputs": [],
   "source": [
    "# Defining a function named 'even' to chech whether a number is even or not\n",
    "def even(x):\n",
    "    if x%2 == 0:\n",
    "        return True\n",
    "    \n",
    "# list of numbers\n",
    "l = [1,2,3,4,5,6,7,8]"
   ]
  },
  {
   "cell_type": "code",
   "execution_count": 14,
   "metadata": {},
   "outputs": [],
   "source": [
    "# Defining my_filter function which works exactly like python's filter() function\n",
    "\n",
    "def my_filter(funct,lst):\n",
    "    result = []\n",
    "    for i in lst:\n",
    "        if funct(i) == True:\n",
    "            result.append(i)\n",
    "    return result\n",
    "    "
   ]
  },
  {
   "cell_type": "code",
   "execution_count": 15,
   "metadata": {},
   "outputs": [
    {
     "data": {
      "text/plain": [
       "[2, 4, 6, 8]"
      ]
     },
     "execution_count": 15,
     "metadata": {},
     "output_type": "execute_result"
    }
   ],
   "source": [
    "# Implementing my_filter() function\n",
    "my_filter(even,l)"
   ]
  },
  {
   "cell_type": "code",
   "execution_count": 17,
   "metadata": {},
   "outputs": [
    {
     "data": {
      "text/plain": [
       "[2, 4, 6, 8]"
      ]
     },
     "execution_count": 17,
     "metadata": {},
     "output_type": "execute_result"
    }
   ],
   "source": [
    "# Checking with filter() function\n",
    "list(filter(even,l))"
   ]
  },
  {
   "cell_type": "markdown",
   "metadata": {},
   "source": [
    "# 2. Implement list comprehension to produce the following lists.\n",
    " \n",
    "['x','xx','xxx','xxxx','y','yy','yyy','yyyy','z','zz','zzz','zzzz']\n",
    "\n",
    "['x','y','z','xx','yy','zz','xxx','yyy','zzz','xxxx','yyyy','zzzz']\n",
    "\n",
    "[[2],[3],[4],[3],[4],[5],[4],[5],[6]]\n",
    "\n",
    "[[2,3,4,5],[3,4,5,6],[4,5,6,7],[5,6,7,8]]\n",
    "\n",
    "[(1,1),(2,1),(3,1),(1,2),(2,2),(3,2),(1,3),(2,3),(3,3)]"
   ]
  },
  {
   "cell_type": "code",
   "execution_count": 20,
   "metadata": {},
   "outputs": [
    {
     "data": {
      "text/plain": [
       "['x', 'xx', 'xxx', 'xxxx', 'y', 'yy', 'yyy', 'yyyy', 'z', 'zz', 'zzz', 'zzzz']"
      ]
     },
     "execution_count": 20,
     "metadata": {},
     "output_type": "execute_result"
    }
   ],
   "source": [
    "# Defining a matrix\n",
    "matrix = ['x','y','z']\n",
    "\n",
    "# Implementing list comprehension to produce ['x','xx','xxx','xxxx','y','yy','yyy','yyyy','z','zz','zzz','zzzz']\n",
    "\n",
    "k1 = [matrix[0]*i for i in range(1,5)]\n",
    "k2 = [matrix[1]*i for i in range(1,5)]\n",
    "k3 = [matrix[2]*i for i in range(1,5)]\n",
    "\n",
    "k1+k2+k3"
   ]
  },
  {
   "cell_type": "code",
   "execution_count": 22,
   "metadata": {},
   "outputs": [
    {
     "data": {
      "text/plain": [
       "['x', 'y', 'z', 'xx', 'yy', 'zz', 'xxx', 'yyy', 'zzz', 'xxxx', 'yyyy', 'zzzz']"
      ]
     },
     "execution_count": 22,
     "metadata": {},
     "output_type": "execute_result"
    }
   ],
   "source": [
    "# Implementing list comprehension to produce ['x','y','z','xx','yy','zz','xxx','yyy','zzz','xxxx','yyyy','zzzz']\n",
    "# using the defined matrix ['x', 'y', 'z']\n",
    "matrix = ['x','y','z']\n",
    "\n",
    "l1 = [matrix[i]*1 for i in range(3)]\n",
    "l2 = [matrix[i]*2 for i in range(3)]\n",
    "l3 = [matrix[i]*3 for i in range(3)]\n",
    "l4 = [matrix[i]*4 for i in range(3)]\n",
    "\n",
    "l1+l2+l3+l4"
   ]
  },
  {
   "cell_type": "code",
   "execution_count": 116,
   "metadata": {},
   "outputs": [
    {
     "data": {
      "text/plain": [
       "[[2], [3], [4], [3], [4], [5], [4], [5], [6]]"
      ]
     },
     "execution_count": 116,
     "metadata": {},
     "output_type": "execute_result"
    }
   ],
   "source": [
    "# Defining a matrix named \"a\"\n",
    "a = [2,3,4,5,6]\n",
    "\n",
    "# Implementing list comprehension to produce [[2],[3],[4],[3],[4],[5],[4],[5],[6]] \n",
    "collect = []\n",
    "#m = []\n",
    "for n in range(3):\n",
    "    m1 = [a[i] for i in range(0+n,1+n)]\n",
    "    collect.append(m1)\n",
    "    m2 = [a[i] for i in range(1+n,2+n)]\n",
    "    collect.append(m2)\n",
    "    m3 = [a[i] for i in range(2+n,3+n)]\n",
    "    collect.append(m3)\n",
    "    \n",
    "    \n",
    "collect"
   ]
  },
  {
   "cell_type": "code",
   "execution_count": 57,
   "metadata": {},
   "outputs": [
    {
     "data": {
      "text/plain": [
       "[[2, 3, 4, 5], [3, 4, 5, 6], [4, 5, 6, 7], [5, 6, 7, 8]]"
      ]
     },
     "execution_count": 57,
     "metadata": {},
     "output_type": "execute_result"
    }
   ],
   "source": [
    "# Defining a matrix named \"matrix1\"\n",
    "matrix1 = [2,3,4,5]\n",
    "\n",
    "# Implementing list comprehension to produce [[2,3,4,5],[3,4,5,6],[4,5,6,7],[5,6,7,8]]\n",
    "n1 = [matrix1[i]+0 for i in range(4)]\n",
    "n2 = [matrix1[i]+1 for i in range(4)]\n",
    "n3 = [matrix1[i]+2 for i in range(4)]\n",
    "n4 = [matrix1[i]+3 for i in range(4)]\n",
    "\n",
    "n5 = n1,n2,n3,n4\n",
    "\n",
    "list(n5)"
   ]
  },
  {
   "cell_type": "code",
   "execution_count": 117,
   "metadata": {},
   "outputs": [
    {
     "data": {
      "text/plain": [
       "[(1, 1), (2, 1), (3, 1), (1, 2), (2, 2), (3, 2), (1, 3), (2, 3), (3, 3)]"
      ]
     },
     "execution_count": 117,
     "metadata": {},
     "output_type": "execute_result"
    }
   ],
   "source": [
    "# Defining k\n",
    "k = [1,2,3]\n",
    "\n",
    "# Implementing list comprehension to produce [(1,1),(2,1),(3,1),(1,2),(2,2),(3,2),(1,3),(2,3),(3,3)]\n",
    "p1 = [(k[i],k[0]) for i in range(3)]\n",
    "p2 = [(k[i],k[1]) for i in range(3)]\n",
    "p3 = [(k[i],k[2]) for i in range(3)]\n",
    "\n",
    "p1+p2+p3\n"
   ]
  },
  {
   "cell_type": "code",
   "execution_count": null,
   "metadata": {},
   "outputs": [],
   "source": []
  }
 ],
 "metadata": {
  "kernelspec": {
   "display_name": "Python 3",
   "language": "python",
   "name": "python3"
  },
  "language_info": {
   "codemirror_mode": {
    "name": "ipython",
    "version": 3
   },
   "file_extension": ".py",
   "mimetype": "text/x-python",
   "name": "python",
   "nbconvert_exporter": "python",
   "pygments_lexer": "ipython3",
   "version": "3.7.6"
  }
 },
 "nbformat": 4,
 "nbformat_minor": 4
}
