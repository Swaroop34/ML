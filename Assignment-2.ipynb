{
 "cells": [
  {
   "cell_type": "code",
   "execution_count": 1,
   "metadata": {},
   "outputs": [
    {
     "name": "stdout",
     "output_type": "stream",
     "text": [
      "* \n",
      "* * \n",
      "* * * \n",
      "* * * * \n",
      "* * * * * \n",
      "* * * * * \n",
      "* * * * \n",
      "* * * \n",
      "* * \n",
      "* \n"
     ]
    }
   ],
   "source": [
    "#Program to generate a pattern using nested for loop\n",
    "for i in range(0,5):\n",
    "    for j in range(0,5):\n",
    "        if(j<=i):\n",
    "            print('*','',end='')\n",
    "        #elif(i<=j):\n",
    "            #print('*','',end='')\n",
    "            #pass\n",
    "    print('') \n",
    "for i in range(0,5):\n",
    "    for j in range(0,5):\n",
    "        if(i<=j):\n",
    "            print('*','',end='')\n",
    "    print('') "
   ]
  },
  {
   "cell_type": "code",
   "execution_count": 2,
   "metadata": {},
   "outputs": [
    {
     "name": "stdout",
     "output_type": "stream",
     "text": [
      "Enter a Word:ineuron\n",
      "norueni\n"
     ]
    }
   ],
   "source": [
    "#Program to reverse a word after accepting input from the user\n",
    "user_get = input(\"Enter a Word:\")\n",
    "print(user_get[::-1])"
   ]
  },
  {
   "cell_type": "code",
   "execution_count": null,
   "metadata": {},
   "outputs": [],
   "source": []
  }
 ],
 "metadata": {
  "kernelspec": {
   "display_name": "Python 3",
   "language": "python",
   "name": "python3"
  },
  "language_info": {
   "codemirror_mode": {
    "name": "ipython",
    "version": 3
   },
   "file_extension": ".py",
   "mimetype": "text/x-python",
   "name": "python",
   "nbconvert_exporter": "python",
   "pygments_lexer": "ipython3",
   "version": "3.7.6"
  }
 },
 "nbformat": 4,
 "nbformat_minor": 4
}
